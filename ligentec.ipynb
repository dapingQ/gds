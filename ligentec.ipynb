{
 "cells": [
  {
   "cell_type": "code",
   "execution_count": 1,
   "metadata": {},
   "outputs": [],
   "source": [
    "# from __future__ import division, print_function, absolute_import\n",
    "%matplotlib inline\n",
    "import numpy as np\n",
    "\n",
    "from phidl import Device, Layer, LayerSet, make_device\n",
    "from phidl import quickplot as qp # Rename \"quickplot()\" to the easier \"qp()\"\n",
    "import phidl.geometry as pg\n",
    "import phidl.routing as pr\n",
    "import phidl.utilities as pu\n",
    "\n",
    "# import customed geolib\n",
    "import photonic as ph\n",
    "import photonic as ph\n",
    "import matplotlib.pyplot as plt"
   ]
  },
  {
   "cell_type": "code",
   "execution_count": 33,
   "metadata": {},
   "outputs": [
    {
     "data": {
      "text/plain": [
       "array([[ -50.5 , -100.5 ],\n",
       "       [1470.5 ,  124.24]])"
      ]
     },
     "execution_count": 33,
     "metadata": {},
     "output_type": "execute_result"
    }
   ],
   "source": [
    "width = 1\n",
    "\n",
    "heaterL = 500\n",
    "bend = 50\n",
    "sin_layer = 2\n",
    "MMI = Device('MMI')\n",
    "MMI << pg.rectangle(size = (360,23.74), layer = 0)\n",
    "MMI.add_port(name = 1, midpoint = [0,0], width = width, orientation = 180)\n",
    "MMI.add_port(name = 2, midpoint = [0,23.74], width = width, orientation = 180)\n",
    "MMI.add_port(name = 3, midpoint = [360,0], width = width, orientation = 0)\n",
    "MMI.add_port(name = 4, midpoint = [360,23.74], width = width, orientation = 0)\n",
    "\n",
    "\n",
    "MZI = Device('CELL')\n",
    "BS1 = pg.copy(MMI)\n",
    "BS2 = pg.copy(MMI).movex(360+200+heaterL)\n",
    "\n",
    "MZI << BS1\n",
    "MZI << BS2 \n",
    "\n",
    "# CN1 = pg.connector((460,170),width,orientation=0)\n",
    "# CN2 = pg.connector((460+heaterL,170),width,orientation=0)\n",
    "\n",
    "\n",
    "# MZI << pr.route_manhattan(BS1.ports[4],CN1.ports[2],bendType='circular',radius=50)    \n",
    "# MZI << pr.route_manhattan(BS2.ports[2],CN2.ports[1],bendType='circular',radius=50)    \n",
    "# MZI << pr.route_manhattan(CN1.ports[1],CN2.ports[2],bendType='circular',radius=50)    \n",
    "\n",
    "BD1 = MZI << pg.turn(port=BS1.ports[4],angle=90,radius=bend,angle_resolution=1, layer=sin_layer)\n",
    "BD2 = MZI << pg.turn(port=BD1.ports[2],angle=-90,radius=bend,angle_resolution=1, layer=sin_layer)\n",
    "upperARM = MZI << ph.extend(port=BD2.ports[2],length=heaterL, layer=sin_layer)\n",
    "BD3 = MZI << pg.turn(port=upperARM.ports[2],angle=-90,radius=bend,angle_resolution=1, layer=sin_layer)\n",
    "BD4 = MZI << pg.turn(port=BD3.ports[2],angle=90,radius=bend,angle_resolution=1, layer=sin_layer)\n",
    "\n",
    "BD5 = MZI << pg.turn(port=BS1.ports[3],angle=-90,radius=bend,angle_resolution=1, layer=sin_layer)\n",
    "BD6 = MZI << pg.turn(port=BD5.ports[2],angle=90,radius=bend,angle_resolution=1, layer=sin_layer)\n",
    "lowerARM = MZI << ph.extend(port=BD6.ports[2],length=heaterL, layer=sin_layer)\n",
    "BD7 = MZI << pg.turn(port=lowerARM.ports[2],angle=90,radius=bend,angle_resolution=1, layer=sin_layer)\n",
    "BD8 = MZI << pg.turn(port=BD7.ports[2],angle=-90,radius=bend,angle_resolution=1, layer=sin_layer)\n",
    "\n",
    "IN1 = MZI << pg.turn(port=BS1.ports[2],angle=-90,radius=bend,angle_resolution=1, layer=sin_layer)\n",
    "# MZI << pg.turn(port=IN1.ports[2],angle=90,radius=bend,angle_resolution=1, layer=sin_layer)\n",
    "IN2 = MZI << pg.turn(port=BS1.ports[1],angle=90,radius=bend,angle_resolution=1, layer=sin_layer)\n",
    "# MZI << pg.turn(port=IN2.ports[2],angle=-90,radius=bend,angle_resolution=1, layer=sin_layer)\n",
    "\n",
    "OUT1 = MZI << pg.turn(port=BS2.ports[4],angle=90,radius=bend,angle_resolution=1, layer=sin_layer)\n",
    "# MZI << pg.turn(port=OUT1.ports[2],angle=-90,radius=bend,angle_resolution=1, layer=sin_layer)\n",
    "OUT2 = MZI << pg.turn(port=BS2.ports[3],angle=-90,radius=bend,angle_resolution=1, layer=sin_layer)\n",
    "# MZI << pg.turn(port=OUT2.ports[2],angle=90,radius=bend,angle_resolution=1, layer=sin_layer)\n",
    "\n",
    "# qp(MZI)\n",
    "\n",
    "MZIW = MZI.bbox[1,0]-MZI.bbox[0,0]\n",
    "MZIH = MZI.bbox[1,1]-MZI.bbox[0,1]\n",
    "\n",
    "D = Device(\"CELL\")\n",
    "\n",
    "N = 6\n",
    "\n",
    "for xx in range(N):\n",
    "    for yy in range(xx%2, N-1, 2):\n",
    "        D << pg.copy(MZI).move((xx*(MZIW-width), yy*(MZIH-width-2*bend)))\n",
    "# for i in range(N):\n",
    "#     for j iin range():co\n",
    "#     if i % 2 = 0:\n",
    "#         D << pg.copy(MZI).move((i,))\n",
    "        # D << pg.copy(MZI)\n",
    "D.flatten().write_gds('mzi.gds')\n",
    "MZI.bbox"
   ]
  },
  {
   "cell_type": "code",
   "execution_count": null,
   "metadata": {},
   "outputs": [],
   "source": []
  }
 ],
 "metadata": {
  "kernelspec": {
   "display_name": "gds",
   "language": "python",
   "name": "python3"
  },
  "language_info": {
   "codemirror_mode": {
    "name": "ipython",
    "version": 3
   },
   "file_extension": ".py",
   "mimetype": "text/x-python",
   "name": "python",
   "nbconvert_exporter": "python",
   "pygments_lexer": "ipython3",
   "version": "3.9.4"
  },
  "orig_nbformat": 4
 },
 "nbformat": 4,
 "nbformat_minor": 2
}
