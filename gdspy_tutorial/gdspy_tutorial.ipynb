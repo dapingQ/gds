{
 "cells": [
  {
   "cell_type": "code",
   "execution_count": 1,
   "metadata": {},
   "outputs": [
    {
     "name": "stdout",
     "output_type": "stream",
     "text": [
      "Using gdspy module version 1.3.1\n"
     ]
    }
   ],
   "source": [
    "######################################################################\n",
    "#                                                                    #\n",
    "#  Copyright 2009-2018 Lucas Heitzmann Gabrielli.                    #\n",
    "#  This file is part of gdspy, distributed under the terms of the    #\n",
    "#  Boost Software License - Version 1.0.  See the accompanying       #\n",
    "#  LICENSE file or <http://www.boost.org/LICENSE_1_0.txt>            #\n",
    "#                                                                    #\n",
    "######################################################################\n",
    "\n",
    "import numpy\n",
    "import gdspy\n",
    "\n",
    "print('Using gdspy module version ' + gdspy.__version__)"
   ]
  },
  {
   "cell_type": "code",
   "execution_count": 2,
   "metadata": {},
   "outputs": [
    {
     "data": {
      "text/plain": [
       "<gdspy.Cell at 0x207bd0cf3a8>"
      ]
     },
     "execution_count": 2,
     "metadata": {},
     "output_type": "execute_result"
    }
   ],
   "source": [
    "# ------------------------------------------------------------------ #\n",
    "#      POLYGONS\n",
    "# ------------------------------------------------------------------ #\n",
    "\n",
    "# First we need a cell to add the polygons to.\n",
    "poly_cell = gdspy.Cell('POLYGONS')\n",
    "\n",
    "# We define the polygon through its vertices.\n",
    "points = [(0, 0), (2, 2), (2, 6), (-6, 6), (-6, -6), (-4, -4), (-4, 4), (0, 4)]\n",
    "\n",
    "# Create the polygon on layer 1.\n",
    "poly1 = gdspy.Polygon(points, 1)\n",
    "\n",
    "# Add the new polygon to the cell.\n",
    "poly_cell.add(poly1)\n",
    "\n",
    "# Create another polygon from the same set of points, but rotate it\n",
    "# 180 degrees and add it to the cell.\n",
    "poly2 = gdspy.Polygon(points, 1).rotate(numpy.pi)\n",
    "poly_cell.add(poly2)\n",
    "\n",
    "# To create rectangles we don't need to give the 4 corners, only 2.\n",
    "# Note that we don't need to create a variable if we are not going to\n",
    "# use it, just add the rectangle directly to the cell.  Create a\n",
    "# rectangle in layer 2.\n",
    "poly_cell.add(gdspy.Rectangle((18, 1), (22, 2), 2))\n",
    "\n",
    "# There are no circles in the GDSII specification, so rounded shapes\n",
    "# are actually many-sided polygons.  Create a circle in layer 2,\n",
    "# centered at (27, 2), and with radius 2.\n",
    "poly_cell.add(gdspy.Round((27, 2), 2, layer=2))\n",
    "\n",
    "# The Round class is quite versatile: it provides circles, pie slices,\n",
    "# rings and ring sections, like this one in layer 2.\n",
    "poly_cell.add(\n",
    "    gdspy.Round(\n",
    "        (23.5, 7),\n",
    "        15,\n",
    "        inner_radius=14,\n",
    "        initial_angle=-2.0 * numpy.pi / 3.0,\n",
    "        final_angle=-numpy.pi / 3.0,\n",
    "        layer=2))"
   ]
  },
  {
   "cell_type": "code",
   "execution_count": 3,
   "metadata": {},
   "outputs": [
    {
     "data": {
      "text/plain": [
       "<gdspy.Cell at 0x207bd0f5900>"
      ]
     },
     "execution_count": 3,
     "metadata": {},
     "output_type": "execute_result"
    }
   ],
   "source": [
    "# ------------------------------------------------------------------ #\n",
    "#      PATHS\n",
    "# ------------------------------------------------------------------ #\n",
    "\n",
    "path_cell = gdspy.Cell('PATHS')\n",
    "\n",
    "# Start a path from the origin with width 1.\n",
    "path1 = gdspy.Path(1, (0, 0))\n",
    "\n",
    "# Add a straight segment to the path in layer 1, datatype 1, with length\n",
    "# 3, going in the '+x' direction. Since we'll use this layer/datatype\n",
    "# configuration again, we can setup a dict containing this info.\n",
    "spec = {'layer': 1, 'datatype': 1}\n",
    "path1.segment(3, '+x', **spec)\n",
    "\n",
    "# Add a curve to the path by specifying its radius as 2 and its initial\n",
    "# and final angles.\n",
    "path1.arc(2, -numpy.pi / 2.0, numpy.pi / 6.0, **spec)\n",
    "\n",
    "# Add another segment to the path in layer 1, with length 4 and\n",
    "# pointing in the direction defined by the last piece we added above.\n",
    "path1.segment(4, **spec)\n",
    "\n",
    "# Add a curve using the turn command.  We specify the radius 2 and\n",
    "# turning angle. The agnle can also be specified with 'l' and 'r' for\n",
    "# left and right turns of 90 degrees, or 'll' and 'rr' for 180 degrees.\n",
    "path1.turn(2, -2.0 * numpy.pi / 3.0, **spec)\n",
    "\n",
    "# Final piece of the path.  Add a straight segment and tapper the path\n",
    "# width from the original 1 to 0.5.\n",
    "path1.segment(3, final_width=0.5, **spec)\n",
    "path_cell.add(path1)\n",
    "\n",
    "# We can also create parallel paths simultaneously.  Start 2 paths with\n",
    "# width 0.5 each,nd pitch 1, originating where our last path ended.\n",
    "path2 = gdspy.Path(0.5, (path1.x, path1.y), number_of_paths=2, distance=1)\n",
    "\n",
    "# Add a straight segment to the paths gradually increasing their\n",
    "# distance to 1.5, in the direction in which the last path ended.\n",
    "spec['layer'] = 2\n",
    "path2.segment(3, path1.direction, final_distance=1.5, **spec)\n",
    "\n",
    "# Path commands can be concatenated.  Add a turn and a tapper segment\n",
    "# in one expression, followed by a final turn.\n",
    "path2.turn(2, -2.0 * numpy.pi / 3.0, **spec).segment(\n",
    "    4, final_distance=1, **spec)\n",
    "path2.turn(4, numpy.pi / 6.0, **spec)\n",
    "path_cell.add(path2)\n",
    "\n",
    "# Create another single path 0.5 wide, starting where the path above\n",
    "# ended, and add to it a line segment in the 3rd layer in the '-y'\n",
    "# direction.\n",
    "path3 = gdspy.Path(0.5, (path2.x, path2.y))\n",
    "path3.segment(1, '-y', layer=3)\n",
    "\n",
    "\n",
    "# We can create paths based on parametric curves. First we need to\n",
    "# define the curve function, with 1 argument.  This argument will vary\n",
    "# from 0 to 1 and the return value should be the (x, y) coordinates of\n",
    "# the path.  This could be a lambda-expression if the function is\n",
    "# simple enough.  We will create a spiral path.  Note that the function\n",
    "# returns (0, 0) when t=0, so that our path is connected.\n",
    "def spiral(t):\n",
    "    r = 4 - 3 * t\n",
    "    theta = 5 * t * numpy.pi\n",
    "    x = 4 - r * numpy.cos(theta)\n",
    "    y = -r * numpy.sin(theta)\n",
    "    return (x, y)\n",
    "\n",
    "\n",
    "# We can also create the derivative of the curve to pass to out path\n",
    "# path member, otherwise it will be numerically calculated.  In the\n",
    "# spiral case we don't want the exact derivative, but the derivative of\n",
    "# the spiral as if its radius was constant.  This will ensure that our\n",
    "# path is connected at the start (geometric problem of this kind of\n",
    "# spiral).\n",
    "def dspiral_dt(t):\n",
    "    theta = 5 * t * numpy.pi\n",
    "    dx_dt = numpy.sin(theta)\n",
    "    dy_dt = -numpy.cos(theta)\n",
    "    return (dx_dt, dy_dt)\n",
    "\n",
    "\n",
    "# Add the parametric spiral to the path in layer 3.  Note that we can\n",
    "# still tapper the width (linearly or with a taper function).  To make\n",
    "# the curve smoother, we increase the number of evaluations of the\n",
    "# function (fracture will be performed automatically to ensure polygons\n",
    "# with less than 200 points).\n",
    "path3.parametric(\n",
    "    spiral,\n",
    "    dspiral_dt,\n",
    "    final_width=lambda t: 0.1 + abs(0.4 * (1 - 2 * t)**3),\n",
    "    number_of_evaluations=600,\n",
    "    layer=3)\n",
    "path_cell.add(path3)\n",
    "\n",
    "# Polygonal paths are defined by the points they pass through.  The\n",
    "# width of the path can be given as a number, representing the path\n",
    "# width along is whole extension, or as a list, where each element is\n",
    "# the width of the path at one point.  Our path will have width 0.5 in\n",
    "# all points, except the last, where it will tapper up to 1.5.  More\n",
    "# than 1 path can be defined in parallel as well (useful for buses).\n",
    "# The distance between the paths work the same way as the width: it's\n",
    "# either a constant number, or a list.  We create 5 parallel paths that\n",
    "# are larger and further apart on the last point. The paths are put in\n",
    "# layers 4 and 5. Since we have 5 paths, the list of layers will be\n",
    "# run more than once, so the 5 paths will actually be in layers 4, 5, 4,\n",
    "# 5, and 4.\n",
    "points = [(20, 12), (24, 8), (24, 4), (24, -2)]\n",
    "widths = [0.5] * (len(points) - 1) + [1.5]\n",
    "distances = [0.8] * (len(points) - 1) + [2.4]\n",
    "polypath = gdspy.PolyPath(\n",
    "    points, widths, number_of_paths=5, distance=distances, layer=[4, 5])\n",
    "\n",
    "# We can round the corners of any Polygon or PolygonSet with the fillet\n",
    "# method. Here we use a radius of 0.2.\n",
    "# polypath.fillet(0.2)\n",
    "path_cell.add(polypath)\n",
    "\n",
    "# L1Paths use only segments in 'x' and 'y' directions, useful for some\n",
    "# lithography mask writers.  We specify a path composed of 16 segments\n",
    "# of length 4.  The turns after each segment can be either 90 degrees\n",
    "# CCW (positive) or CW (negative).  The absolute value of the turns\n",
    "# produces a scaling of the path width and distance between paths in\n",
    "# segments immediately after the turn.\n",
    "lengths = [4] * 8\n",
    "turns = [-1, -1, 1, 1, -1, -2, 1, 0.5]\n",
    "l1path = gdspy.L1Path(\n",
    "    (-1, -11),\n",
    "    '+y',\n",
    "    0.5,\n",
    "    lengths,\n",
    "    turns,\n",
    "    number_of_paths=3,\n",
    "    distance=0.7,\n",
    "    layer=6)\n",
    "path_cell.add(l1path)"
   ]
  },
  {
   "cell_type": "code",
   "execution_count": 4,
   "metadata": {},
   "outputs": [
    {
     "data": {
      "text/plain": [
       "<gdspy.Cell at 0x207bbc06af8>"
      ]
     },
     "execution_count": 4,
     "metadata": {},
     "output_type": "execute_result"
    }
   ],
   "source": [
    "# ------------------------------------------------------------------ #\n",
    "#      POLYGON OPERATIONS\n",
    "# ------------------------------------------------------------------ #\n",
    "\n",
    "# Boolean operations can be executed with either gdspy polygons or\n",
    "# point lists).  The operations are union, intersection, subtraction,\n",
    "# symmetric subtracion (respectively 'or', 'and', 'not', 'xor').\n",
    "oper_cell = gdspy.Cell('OPERATIONS')\n",
    "\n",
    "# Here we subtract the previously created spiral from a rectangle with\n",
    "# the 'not' operation.\n",
    "oper_cell.add(\n",
    "    gdspy.fast_boolean(\n",
    "        gdspy.Rectangle((10, -4), (17, 4)), path3, 'not', layer=1))\n",
    "\n",
    "# Polygon offset (inset and outset) can be used, for instance, to\n",
    "# define safety margins around shapes.\n",
    "\n",
    "spec = {'layer': 7}\n",
    "path4 = gdspy.Path(0.5, (21, -5)).segment(3, '+x', **spec)\\\n",
    "        .turn(4, 'r', **spec).turn(4, 'rr', **spec)\\\n",
    "        .segment(3, **spec)\n",
    "oper_cell.add(path4)\n",
    "\n",
    "# Merge all parts into a single polygon.\n",
    "merged = gdspy.fast_boolean(path4, None, 'or', max_points=0)\n",
    "\n",
    "# Offset the path shape by 0.5 and add it to the cell.\n",
    "oper_cell.add(gdspy.offset(merged, 1, layer=8))"
   ]
  },
  {
   "cell_type": "code",
   "execution_count": 5,
   "metadata": {},
   "outputs": [
    {
     "data": {
      "text/plain": [
       "<gdspy.Cell at 0x207bd0cf438>"
      ]
     },
     "execution_count": 5,
     "metadata": {},
     "output_type": "execute_result"
    }
   ],
   "source": [
    "# ------------------------------------------------------------------ #\n",
    "#      SLICING POLYGONS\n",
    "# ------------------------------------------------------------------ #\n",
    "\n",
    "# If there is the need to cut a polygon or set of polygons, it's better\n",
    "# to use the slice function than set up a boolean operation, since it\n",
    "# runs much faster.  Slices are multiple cuts perpendicular to an axis.\n",
    "slice_cell = gdspy.Cell('SLICE')\n",
    "original = gdspy.Round((0, 0), 10, inner_radius=5)\n",
    "\n",
    "# Slice the original ring along x = -7 and x = 7.\n",
    "result = gdspy.slice(original, [-7, 7], 0, layer=1)\n",
    "\n",
    "# The result is a tuple of polygon sets, one for each slice.  To keep\n",
    "# add the region betwen our 2 cuts, we chose result[1].\n",
    "slice_cell.add(result[1])\n",
    "\n",
    "# If the cut needs to be at an angle we can rotate the geometry, slice\n",
    "# it, and rotate back.\n",
    "original = gdspy.PolyPath([(12, 0), (12, 8), (28, 8), (28, -8), (12, -8),\n",
    "                           (12, 0)], 1, 3, 2)\n",
    "original.rotate(numpy.pi / 3, center=(20, 0))\n",
    "result = gdspy.slice(original, 7, 1, layer=2)\n",
    "result[0].rotate(-numpy.pi / 3, center=(20, 0))\n",
    "slice_cell.add(result[0])"
   ]
  },
  {
   "cell_type": "code",
   "execution_count": 6,
   "metadata": {},
   "outputs": [
    {
     "data": {
      "text/plain": [
       "<gdspy.Cell at 0x207bd0cb4c8>"
      ]
     },
     "execution_count": 6,
     "metadata": {},
     "output_type": "execute_result"
    }
   ],
   "source": [
    "# ------------------------------------------------------------------ #\n",
    "#      REFERENCES AND TEXT\n",
    "# ------------------------------------------------------------------ #\n",
    "\n",
    "# Cells can contain references to other cells.\n",
    "ref_cell = gdspy.Cell('REFS')\n",
    "ref_cell.add(gdspy.CellReference(poly_cell, (0, 30), x_reflection=True))\n",
    "ref_cell.add(gdspy.CellReference(poly_cell, (25, 0), rotation=180))\n",
    "\n",
    "# References can be whole arrays. Add an array of the operations cell\n",
    "# with 2 lines and 3 columns and 1st element at (25, 10).\n",
    "ref_cell.add(\n",
    "    gdspy.CellArray('OPERATIONS', 3, 2, (35, 30), (25, 10), magnification=1.5))\n",
    "\n",
    "# Text are also sets of polygons. They have edges parallel to 'x' and\n",
    "# 'y' only.\n",
    "ref_cell.add(\n",
    "    gdspy.Text(\n",
    "        'Created with gsdpy ' + gdspy.__version__, 7, (-7, -35), layer=6))\n",
    "\n",
    "# Labels are special text objects which don't define any actual\n",
    "# geometry, but can be used to annotate the drawing.  Rotation,\n",
    "# magnification and reflection of the text are not supported by the\n",
    "# included GUI, but they are included in the resulting GDSII file.\n",
    "ref_cell.add(\n",
    "    gdspy.Label(\n",
    "        'Created with gdspy ' + gdspy.__version__, (-7, -36), 'nw', layer=6))"
   ]
  },
  {
   "cell_type": "code",
   "execution_count": 7,
   "metadata": {},
   "outputs": [
    {
     "data": {
      "text/plain": [
       "<gdspy.Cell at 0x207bd0f55e8>"
      ]
     },
     "execution_count": 7,
     "metadata": {},
     "output_type": "execute_result"
    }
   ],
   "source": [
    "# ------------------------------------------------------------------ #\n",
    "#      Translation\n",
    "# ------------------------------------------------------------------ #\n",
    "\n",
    "trans_cell = gdspy.Cell('TRANS')\n",
    "\n",
    "# Any geometric object can be translated by providing the distance to\n",
    "# translate in the x-direction and y-direction:  translate(dx, dy)\n",
    "rect1 = gdspy.Rectangle((80, 0), (81, 1), 1)\n",
    "rect1.translate(2, 0)\n",
    "trans_cell.add(rect1)\n",
    "\n",
    "# Translatable objects can also be copied & translated in the same way.\n",
    "rect2 = gdspy.Rectangle((80, 0), (81, 1), 2)\n",
    "rect3 = gdspy.copy(rect2, 0, 3)\n",
    "trans_cell.add(rect2)\n",
    "trans_cell.add(rect3)\n",
    "\n",
    "# Reference Cells are also translatable, and thus copyable.\n",
    "ref1 = gdspy.CellReference(poly_cell, (25, 0), rotation=180)\n",
    "ref2 = gdspy.copy(ref1, 30, 30)\n",
    "trans_cell.add(ref1)\n",
    "trans_cell.add(ref2)\n",
    "\n",
    "# Same goes for Labels & Text\n",
    "text1 = gdspy.Text(\n",
    "    'Created with gdspy ' + gdspy.__version__, 7, (-7, -35), layer=6)\n",
    "text2 = gdspy.copy(text1, 0, -20)\n",
    "label1 = gdspy.Label(\n",
    "    'Created with gdspy ' + gdspy.__version__, (-7, -36), 'nw', layer=6)\n",
    "label2 = gdspy.copy(label1, 0, -20)\n",
    "trans_cell.add(text1)\n",
    "trans_cell.add(text2)\n",
    "trans_cell.add(label1)\n",
    "trans_cell.add(label2)"
   ]
  },
  {
   "cell_type": "code",
   "execution_count": 8,
   "metadata": {},
   "outputs": [],
   "source": [
    "# ------------------------------------------------------------------ #\n",
    "#      OUTPUT\n",
    "# ------------------------------------------------------------------ #\n",
    "\n",
    "# Output the layout to a GDSII file (default to all created cells).\n",
    "# Set the units we used to micrometers and the precision to nanometers.\n",
    "gdspy.write_gds('tutorial.gds', unit=1.0e-6, precision=1.0e-9)"
   ]
  },
  {
   "cell_type": "code",
   "execution_count": 9,
   "metadata": {},
   "outputs": [
    {
     "data": {
      "text/plain": [
       "<gdspy.Cell at 0x207bd0e5bd0>"
      ]
     },
     "execution_count": 9,
     "metadata": {},
     "output_type": "execute_result"
    }
   ],
   "source": [
    "# ------------------------------------------------------------------ #\n",
    "#      IMPORT\n",
    "# ------------------------------------------------------------------ #\n",
    "\n",
    "# Import the file we just created, and extract the cell 'POLYGONS'. To\n",
    "# avoid naming conflict, we will rename all cells.\n",
    "gdsii = gdspy.GdsLibrary()\n",
    "gdsii.read_gds(\n",
    "    'tutorial.gds',\n",
    "    rename={\n",
    "        'POLYGONS': 'IMPORT_POLY',\n",
    "        'PATHS': 'IMPORT_PATHS',\n",
    "        'OPERATIONS': 'IMPORT_OPER',\n",
    "        'SLICE': 'IMPORT_SLICE',\n",
    "        'REFS': 'IMPORT_REFS',\n",
    "        'TRANS': 'IMPORT_TRANS'\n",
    "    },\n",
    "    layers={\n",
    "        1: 7,\n",
    "        2: 8,\n",
    "        3: 9\n",
    "    })\n",
    "\n",
    "# Now we extract the cells we want to actually include in our current\n",
    "# structure. Note that the referenced cells will be automatically\n",
    "# extracted as well.\n",
    "gdsii.extract('IMPORT_REFS')"
   ]
  },
  {
   "cell_type": "code",
   "execution_count": 10,
   "metadata": {},
   "outputs": [
    {
     "data": {
      "text/plain": [
       "<gdspy.viewer.LayoutViewer object .!layoutviewer>"
      ]
     },
     "execution_count": 10,
     "metadata": {},
     "output_type": "execute_result"
    }
   ],
   "source": [
    "# ------------------------------------------------------------------ #\n",
    "#      VIEWER\n",
    "# ------------------------------------------------------------------ #\n",
    "\n",
    "# View the layout using a GUI.  Full description of the controls can\n",
    "# be found in the online help at http://gdspy.sourceforge.net/\n",
    "gdspy.LayoutViewer()"
   ]
  }
 ],
 "metadata": {
  "kernelspec": {
   "display_name": "Python 3",
   "language": "python",
   "name": "python3"
  },
  "language_info": {
   "codemirror_mode": {
    "name": "ipython",
    "version": 3
   },
   "file_extension": ".py",
   "mimetype": "text/x-python",
   "name": "python",
   "nbconvert_exporter": "python",
   "pygments_lexer": "ipython3",
   "version": "3.6.7"
  }
 },
 "nbformat": 4,
 "nbformat_minor": 2
}
